{
 "cells": [
  {
   "cell_type": "code",
   "execution_count": 1,
   "metadata": {},
   "outputs": [],
   "source": [
    "import torch\n",
    "import torch.nn as nn"
   ]
  },
  {
   "cell_type": "code",
   "execution_count": 2,
   "metadata": {},
   "outputs": [],
   "source": [
    "# x = torch.arange(4*2).add(1).reshape(4, 2)\n",
    "x = [[1,2], [3,4], [5,6], [7,8]]\n",
    "y = [[3], [7], [11], [15]]"
   ]
  },
  {
   "cell_type": "code",
   "execution_count": 3,
   "metadata": {},
   "outputs": [],
   "source": [
    "X = torch.tensor(x).float()\n",
    "Y = torch.tensor(y).float()"
   ]
  },
  {
   "cell_type": "code",
   "execution_count": 4,
   "metadata": {},
   "outputs": [
    {
     "name": "stdout",
     "output_type": "stream",
     "text": [
      "cuda\n"
     ]
    }
   ],
   "source": [
    "device = 'cuda' if torch.cuda.is_available() else 'cpu'\n",
    "X = X.to(device)\n",
    "Y = Y.to(device)\n",
    "print(device)"
   ]
  },
  {
   "cell_type": "code",
   "execution_count": 5,
   "metadata": {},
   "outputs": [
    {
     "data": {
      "text/plain": [
       "torch.nn.modules.activation.ReLU"
      ]
     },
     "execution_count": 5,
     "metadata": {},
     "output_type": "execute_result"
    }
   ],
   "source": [
    "nn.Linear(2,7)\n",
    "\n",
    "nn.ReLU"
   ]
  },
  {
   "cell_type": "code",
   "execution_count": 6,
   "metadata": {},
   "outputs": [],
   "source": [
    "class MyNeuralNet(nn.Module):\n",
    "    def __init__(self) -> None:\n",
    "        super().__init__()\n",
    "        # inputs = 2\n",
    "        # hidden_layer = 1\n",
    "        # hidden_layer_nodes = 8\n",
    "        # outputs = 1\n",
    "        self.input_to_hidden_layer = nn.Linear(2,8)\n",
    "        self.hidden_layer_activation = nn.ReLU()\n",
    "        self.hidden_to_output_layer = nn.Linear(8,1)\n",
    "\n",
    "    def forward(self,x):\n",
    "        x = self.input_to_hidden_layer(x)\n",
    "        x = self.hidden_layer_activation(x)\n",
    "        x = self.hidden_to_output_layer(x)\n",
    "        return x  # predicted output"
   ]
  },
  {
   "cell_type": "code",
   "execution_count": 7,
   "metadata": {},
   "outputs": [],
   "source": [
    "mynet = MyNeuralNet().to(device)"
   ]
  },
  {
   "cell_type": "code",
   "execution_count": 8,
   "metadata": {},
   "outputs": [
    {
     "data": {
      "text/plain": [
       "Parameter containing:\n",
       "tensor([[-0.0519, -0.5972],\n",
       "        [ 0.0222,  0.3200],\n",
       "        [ 0.3529,  0.5304],\n",
       "        [ 0.5680, -0.0089],\n",
       "        [-0.5819,  0.5466],\n",
       "        [-0.0227, -0.5117],\n",
       "        [-0.6658,  0.5419],\n",
       "        [ 0.0800,  0.3470]], device='cuda:0', requires_grad=True)"
      ]
     },
     "execution_count": 8,
     "metadata": {},
     "output_type": "execute_result"
    }
   ],
   "source": [
    "mynet.input_to_hidden_layer.weight"
   ]
  },
  {
   "cell_type": "code",
   "execution_count": 9,
   "metadata": {},
   "outputs": [
    {
     "name": "stdout",
     "output_type": "stream",
     "text": [
      "Parameter containing:\n",
      "tensor([[-0.0519, -0.5972],\n",
      "        [ 0.0222,  0.3200],\n",
      "        [ 0.3529,  0.5304],\n",
      "        [ 0.5680, -0.0089],\n",
      "        [-0.5819,  0.5466],\n",
      "        [-0.0227, -0.5117],\n",
      "        [-0.6658,  0.5419],\n",
      "        [ 0.0800,  0.3470]], device='cuda:0', requires_grad=True)\n",
      "Parameter containing:\n",
      "tensor([-0.5529, -0.6281, -0.5622,  0.0550, -0.0680, -0.3353, -0.0035, -0.3261],\n",
      "       device='cuda:0', requires_grad=True)\n",
      "Parameter containing:\n",
      "tensor([[ 0.2039, -0.0607, -0.2813, -0.2104,  0.1870,  0.3145, -0.1429, -0.1036]],\n",
      "       device='cuda:0', requires_grad=True)\n",
      "Parameter containing:\n",
      "tensor([-0.0666], device='cuda:0', requires_grad=True)\n"
     ]
    }
   ],
   "source": [
    "for i in mynet.parameters():\n",
    "    print(i)"
   ]
  },
  {
   "cell_type": "code",
   "execution_count": 10,
   "metadata": {},
   "outputs": [],
   "source": [
    "loss_func = nn.MSELoss()"
   ]
  },
  {
   "cell_type": "code",
   "execution_count": 11,
   "metadata": {},
   "outputs": [
    {
     "name": "stdout",
     "output_type": "stream",
     "text": [
      "tensor(144.6666, device='cuda:0', grad_fn=<MseLossBackward0>)\n"
     ]
    }
   ],
   "source": [
    "_Y = mynet(X)   # is same as _Y = mynet.forward(X)\n",
    "loss_value = loss_func(_Y, Y)\n",
    "print(loss_value)"
   ]
  },
  {
   "cell_type": "code",
   "execution_count": 12,
   "metadata": {},
   "outputs": [
    {
     "data": {
      "text/plain": [
       "SGD (\n",
       "Parameter Group 0\n",
       "    dampening: 0\n",
       "    differentiable: False\n",
       "    foreach: None\n",
       "    lr: 0.001\n",
       "    maximize: False\n",
       "    momentum: 0\n",
       "    nesterov: False\n",
       "    weight_decay: 0\n",
       ")"
      ]
     },
     "execution_count": 12,
     "metadata": {},
     "output_type": "execute_result"
    }
   ],
   "source": [
    "from torch.optim import SGD\n",
    "\n",
    "opt = SGD(mynet.parameters(), lr=0.001)\n",
    "opt"
   ]
  },
  {
   "cell_type": "code",
   "execution_count": 13,
   "metadata": {},
   "outputs": [
    {
     "name": "stdout",
     "output_type": "stream",
     "text": [
      "[{'params': [Parameter containing:\n",
      "tensor([[-0.0519, -0.5972],\n",
      "        [ 0.0222,  0.3200],\n",
      "        [ 0.3529,  0.5304],\n",
      "        [ 0.5680, -0.0089],\n",
      "        [-0.5819,  0.5466],\n",
      "        [-0.0227, -0.5117],\n",
      "        [-0.6658,  0.5419],\n",
      "        [ 0.0800,  0.3470]], device='cuda:0', requires_grad=True), Parameter containing:\n",
      "tensor([-0.5529, -0.6281, -0.5622,  0.0550, -0.0680, -0.3353, -0.0035, -0.3261],\n",
      "       device='cuda:0', requires_grad=True), Parameter containing:\n",
      "tensor([[ 0.2039, -0.0607, -0.2813, -0.2104,  0.1870,  0.3145, -0.1429, -0.1036]],\n",
      "       device='cuda:0', requires_grad=True), Parameter containing:\n",
      "tensor([-0.0666], device='cuda:0', requires_grad=True)], 'lr': 0.001, 'momentum': 0, 'dampening': 0, 'weight_decay': 0, 'nesterov': False, 'maximize': False, 'foreach': None, 'differentiable': False}]\n",
      "[{'params': [Parameter containing:\n",
      "tensor([[-0.0519, -0.5972],\n",
      "        [ 0.0222,  0.3200],\n",
      "        [ 0.3529,  0.5304],\n",
      "        [ 0.5680, -0.0089],\n",
      "        [-0.5819,  0.5466],\n",
      "        [-0.0227, -0.5117],\n",
      "        [-0.6658,  0.5419],\n",
      "        [ 0.0800,  0.3470]], device='cuda:0', requires_grad=True), Parameter containing:\n",
      "tensor([-0.5529, -0.6281, -0.5622,  0.0550, -0.0680, -0.3353, -0.0035, -0.3261],\n",
      "       device='cuda:0', requires_grad=True), Parameter containing:\n",
      "tensor([[ 0.2039, -0.0607, -0.2813, -0.2104,  0.1870,  0.3145, -0.1429, -0.1036]],\n",
      "       device='cuda:0', requires_grad=True), Parameter containing:\n",
      "tensor([-0.0666], device='cuda:0', requires_grad=True)], 'lr': 0.001, 'momentum': 0, 'dampening': 0, 'weight_decay': 0, 'nesterov': False, 'maximize': False, 'foreach': None, 'differentiable': False}]\n"
     ]
    }
   ],
   "source": [
    "print(opt.param_groups)\n",
    "opt.zero_grad()\n",
    "print(opt.param_groups)"
   ]
  },
  {
   "cell_type": "code",
   "execution_count": 14,
   "metadata": {},
   "outputs": [],
   "source": [
    "loss_history = list()\n",
    "epochs = 50\n",
    "for _ in range(epochs):\n",
    "    opt.zero_grad()\n",
    "    loss_value = loss_func(mynet(X), Y)\n",
    "    loss_value.backward()\n",
    "    opt.step()\n",
    "    # print(opt.param_groups)\n",
    "    loss_history.append(loss_value.item())"
   ]
  },
  {
   "cell_type": "code",
   "execution_count": 15,
   "metadata": {},
   "outputs": [],
   "source": [
    "import matplotlib.pyplot as plt\n",
    "%matplotlib inline"
   ]
  },
  {
   "cell_type": "code",
   "execution_count": 16,
   "metadata": {},
   "outputs": [
    {
     "data": {
      "image/png": "[encoded data removed]",
      "text/plain": [
       "<Figure size 640x480 with 1 Axes>"
      ]
     },
     "metadata": {},
     "output_type": "display_data"
    }
   ],
   "source": [
    "plt.plot(loss_history)\n",
    "plt.title(\"Loss variation over increasing epochs\")\n",
    "plt.xlabel(\"epochs\")\n",
    "plt.ylabel(\"loss value\")\n",
    "plt.show()"
   ]
  },
  {
   "cell_type": "code",
   "execution_count": 17,
   "metadata": {},
   "outputs": [
    {
     "data": {
      "text/plain": [
       "[144.66659545898438,\n",
       " 124.6358871459961,\n",
       " 110.75473022460938,\n",
       " 99.85660552978516,\n",
       " 90.33917999267578,\n",
       " 81.30619049072266,\n",
       " 72.25591278076172,\n",
       " 62.961360931396484,\n",
       " 53.425132751464844,\n",
       " 43.85131072998047,\n",
       " 34.59922790527344,\n",
       " 26.10169219970703,\n",
       " 18.75441551208496,\n",
       " 12.810566902160645,\n",
       " 8.323149681091309,\n",
       " 5.158632278442383,\n",
       " 3.064487934112549,\n",
       " 1.7553045749664307,\n",
       " 0.9757462739944458,\n",
       " 0.5297752022743225,\n",
       " 0.2826448380947113,\n",
       " 0.14903712272644043,\n",
       " 0.07813994586467743,\n",
       " 0.041039127856492996,\n",
       " 0.02182040736079216,\n",
       " 0.011937633156776428,\n",
       " 0.006881827022880316,\n",
       " 0.004304400645196438,\n",
       " 0.002992874477058649,\n",
       " 0.0023257031571120024,\n",
       " 0.0019857087172567844,\n",
       " 0.0018114596605300903,\n",
       " 0.0017211277736350894,\n",
       " 0.0016731926007196307,\n",
       " 0.0016466925153508782,\n",
       " 0.001631047111004591,\n",
       " 0.0016209010500460863,\n",
       " 0.0016134983161464334,\n",
       " 0.0016075028106570244,\n",
       " 0.0016022506169974804,\n",
       " 0.001597337774001062,\n",
       " 0.0015926331980153918,\n",
       " 0.0015880133723840117,\n",
       " 0.0015834785299375653,\n",
       " 0.0015789421740919352,\n",
       " 0.0015744839329272509,\n",
       " 0.001570019405335188,\n",
       " 0.0015655601164326072,\n",
       " 0.0015611243434250355,\n",
       " 0.0015566963702440262]"
      ]
     },
     "execution_count": 17,
     "metadata": {},
     "output_type": "execute_result"
    }
   ],
   "source": [
    "loss_history"
   ]
  },
  {
   "cell_type": "code",
   "execution_count": 18,
   "metadata": {},
   "outputs": [
    {
     "data": {
      "text/plain": [
       "[{'params': [Parameter containing:\n",
       "   tensor([[-0.0519, -0.5972],\n",
       "           [ 0.1219,  0.4397],\n",
       "           [ 0.5101,  0.7194],\n",
       "           [ 0.6231,  0.0575],\n",
       "           [-0.2312,  0.9668],\n",
       "           [-0.0227, -0.5117],\n",
       "           [-0.6849,  0.5146],\n",
       "           [ 0.2145,  0.5084]], device='cuda:0', requires_grad=True),\n",
       "   Parameter containing:\n",
       "   tensor([-0.5529, -0.6082, -0.5304,  0.0663,  0.0015, -0.3353, -0.0117, -0.2991],\n",
       "          device='cuda:0', requires_grad=True),\n",
       "   Parameter containing:\n",
       "   tensor([[ 0.2039,  0.2995,  0.6782,  0.3616,  0.6122,  0.3145, -0.1321,  0.4287]],\n",
       "          device='cuda:0', requires_grad=True),\n",
       "   Parameter containing:\n",
       "   tensor([0.1555], device='cuda:0', requires_grad=True)],\n",
       "  'lr': 0.001,\n",
       "  'momentum': 0,\n",
       "  'dampening': 0,\n",
       "  'weight_decay': 0,\n",
       "  'nesterov': False,\n",
       "  'maximize': False,\n",
       "  'foreach': None,\n",
       "  'differentiable': False}]"
      ]
     },
     "execution_count": 18,
     "metadata": {},
     "output_type": "execute_result"
    }
   ],
   "source": [
    "opt.param_groups"
   ]
  },
  {
   "cell_type": "code",
   "execution_count": null,
   "metadata": {},
   "outputs": [],
   "source": []
  }
 ],
 "metadata": {
  "kernelspec": {
   "display_name": "base",
   "language": "python",
   "name": "python3"
  },
  "language_info": {
   "codemirror_mode": {
    "name": "ipython",
    "version": 3
   },
   "file_extension": ".py",
   "mimetype": "text/x-python",
   "name": "python",
   "nbconvert_exporter": "python",
   "pygments_lexer": "ipython3",
   "version": "3.11.5"
  }
 },
 "nbformat": 4,
 "nbformat_minor": 2
}
