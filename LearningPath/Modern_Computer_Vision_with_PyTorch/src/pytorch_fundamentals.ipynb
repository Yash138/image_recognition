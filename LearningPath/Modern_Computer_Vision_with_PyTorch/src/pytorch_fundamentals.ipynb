{
  "cells": [
    {
      "cell_type": "markdown",
      "metadata": {
        "id": "7St63tfiy18o"
      },
      "source": [
        "#### Initializing a Tensor"
      ]
    },
    {
      "cell_type": "code",
      "execution_count": 3,
      "metadata": {
        "id": "S1w9PrTRtxJd"
      },
      "outputs": [],
      "source": [
        "import torch"
      ]
    },
    {
      "cell_type": "code",
      "execution_count": 4,
      "metadata": {
        "id": "3W-nF91Lt4ck"
      },
      "outputs": [],
      "source": [
        "x = torch.tensor([[1,2]])\n",
        "y = torch.tensor([[1], [2]])"
      ]
    },
    {
      "cell_type": "code",
      "execution_count": 5,
      "metadata": {
        "colab": {
          "base_uri": "https://localhost:8080/"
        },
        "id": "twPHm5d3uU6B",
        "outputId": "1112abd1-2d57-42ab-a273-f55c7f1da8a3"
      },
      "outputs": [
        {
          "name": "stdout",
          "output_type": "stream",
          "text": [
            "torch.Size([1, 2])\n",
            "torch.Size([2, 1])\n",
            "torch.int64\n"
          ]
        }
      ],
      "source": [
        "print(x.shape)\n",
        "print(y.shape)\n",
        "print(x.dtype)"
      ]
    },
    {
      "cell_type": "code",
      "execution_count": 6,
      "metadata": {
        "colab": {
          "base_uri": "https://localhost:8080/"
        },
        "id": "vPxiRtSRuYK-",
        "outputId": "9bd2c154-8f64-420a-bfe4-6b2bea63d4a4"
      },
      "outputs": [
        {
          "name": "stdout",
          "output_type": "stream",
          "text": [
            "tensor([0.0000, 1.0000, 0.7000])\n",
            "torch.Size([3])\n"
          ]
        }
      ],
      "source": [
        "x = torch.tensor([False, 1, 0.7])\n",
        "print(x)\n",
        "print(x.shape)"
      ]
    },
    {
      "cell_type": "code",
      "execution_count": 7,
      "metadata": {
        "colab": {
          "base_uri": "https://localhost:8080/",
          "height": 210
        },
        "id": "6LmMTF_zvAyN",
        "outputId": "bb522206-0650-435e-e3ba-69b29a2e382b"
      },
      "outputs": [
        {
          "ename": "ValueError",
          "evalue": "too many dimensions 'str'",
          "output_type": "error",
          "traceback": [
            "\u001b[1;31m---------------------------------------------------------------------------\u001b[0m",
            "\u001b[1;31mValueError\u001b[0m                                Traceback (most recent call last)",
            "\u001b[1;32mg:\\Yash\\Documents\\Github\\image_recognition\\LearningPath\\Modern_Computer_Vision_with_PyTorch\\src\\pytorch_fundamentals.ipynb Cell 6\u001b[0m line \u001b[0;36m1\n\u001b[1;32m----> <a href='vscode-notebook-cell:/g%3A/Yash/Documents/Github/image_recognition/LearningPath/Modern_Computer_Vision_with_PyTorch/src/pytorch_fundamentals.ipynb#X11sZmlsZQ%3D%3D?line=0'>1</a>\u001b[0m x \u001b[39m=\u001b[39m torch\u001b[39m.\u001b[39mtensor([\u001b[39m\"\u001b[39m\u001b[39mFalse\u001b[39m\u001b[39m\"\u001b[39m, \u001b[39m1\u001b[39m, \u001b[39m0.7\u001b[39m])\n\u001b[0;32m      <a href='vscode-notebook-cell:/g%3A/Yash/Documents/Github/image_recognition/LearningPath/Modern_Computer_Vision_with_PyTorch/src/pytorch_fundamentals.ipynb#X11sZmlsZQ%3D%3D?line=1'>2</a>\u001b[0m \u001b[39mprint\u001b[39m(x)\n\u001b[0;32m      <a href='vscode-notebook-cell:/g%3A/Yash/Documents/Github/image_recognition/LearningPath/Modern_Computer_Vision_with_PyTorch/src/pytorch_fundamentals.ipynb#X11sZmlsZQ%3D%3D?line=2'>3</a>\u001b[0m \u001b[39mprint\u001b[39m(x\u001b[39m.\u001b[39mshape)\n",
            "\u001b[1;31mValueError\u001b[0m: too many dimensions 'str'"
          ]
        }
      ],
      "source": [
        "x = torch.tensor([\"False\", 1, 0.7])\n",
        "print(x)\n",
        "print(x.shape)"
      ]
    },
    {
      "cell_type": "code",
      "execution_count": 8,
      "metadata": {
        "colab": {
          "base_uri": "https://localhost:8080/"
        },
        "id": "pdF7bM4KvQNq",
        "outputId": "7f4445dc-3749-4546-a7e2-bc790c69d8eb"
      },
      "outputs": [
        {
          "data": {
            "text/plain": [
              "tensor([[0., 0., 0., 0.],\n",
              "        [0., 0., 0., 0.],\n",
              "        [0., 0., 0., 0.]])"
            ]
          },
          "execution_count": 8,
          "metadata": {},
          "output_type": "execute_result"
        }
      ],
      "source": [
        "torch.zeros((3,4))"
      ]
    },
    {
      "cell_type": "code",
      "execution_count": 9,
      "metadata": {
        "colab": {
          "base_uri": "https://localhost:8080/"
        },
        "id": "EAlhC7pVvf9d",
        "outputId": "229df932-a705-4281-e599-e3cb98949f9e"
      },
      "outputs": [
        {
          "data": {
            "text/plain": [
              "tensor([[1., 1., 1., 1.],\n",
              "        [1., 1., 1., 1.],\n",
              "        [1., 1., 1., 1.]])"
            ]
          },
          "execution_count": 9,
          "metadata": {},
          "output_type": "execute_result"
        }
      ],
      "source": [
        "torch.ones((3,4))"
      ]
    },
    {
      "cell_type": "code",
      "execution_count": 10,
      "metadata": {
        "colab": {
          "base_uri": "https://localhost:8080/"
        },
        "id": "Toh6WNG5vlG3",
        "outputId": "d05a1ed8-fb73-44a0-9436-e80dac63b9c6"
      },
      "outputs": [
        {
          "data": {
            "text/plain": [
              "tensor([[0., 0., 0., 0.],\n",
              "        [0., 0., 0., 0.],\n",
              "        [0., 0., 0., 0.]])"
            ]
          },
          "execution_count": 10,
          "metadata": {},
          "output_type": "execute_result"
        }
      ],
      "source": [
        "torch.zeros(size=(3,4))"
      ]
    },
    {
      "cell_type": "code",
      "execution_count": 11,
      "metadata": {
        "colab": {
          "base_uri": "https://localhost:8080/"
        },
        "id": "eW2U1E86v0Te",
        "outputId": "2c21c498-3208-47fc-d939-50818762825d"
      },
      "outputs": [
        {
          "data": {
            "text/plain": [
              "tensor([[1, 1, 2, 7],\n",
              "        [6, 3, 3, 0],\n",
              "        [7, 0, 5, 8]])"
            ]
          },
          "execution_count": 11,
          "metadata": {},
          "output_type": "execute_result"
        }
      ],
      "source": [
        "torch.randint(low=0, high=10, size=(3,4))  # lower bound included, upper bound excluded"
      ]
    },
    {
      "cell_type": "code",
      "execution_count": 12,
      "metadata": {
        "colab": {
          "base_uri": "https://localhost:8080/"
        },
        "id": "gdxqh_MYwRWi",
        "outputId": "7addcb63-4439-4df3-f439-8d7553dcb516"
      },
      "outputs": [
        {
          "data": {
            "text/plain": [
              "tensor([[0.9790, 0.2726, 0.0450, 0.5012],\n",
              "        [0.6389, 0.6030, 0.9096, 0.7382],\n",
              "        [0.5752, 0.5994, 0.8824, 0.4676]])"
            ]
          },
          "execution_count": 12,
          "metadata": {},
          "output_type": "execute_result"
        }
      ],
      "source": [
        "torch.rand((3,4)) # between 0 & 1"
      ]
    },
    {
      "cell_type": "code",
      "execution_count": 13,
      "metadata": {
        "colab": {
          "base_uri": "https://localhost:8080/"
        },
        "id": "uQiU1OexwYCs",
        "outputId": "16baaee3-8e74-4750-e063-69dfbe93683e"
      },
      "outputs": [
        {
          "data": {
            "text/plain": [
              "tensor([[ 0.4192, -1.8743,  0.0311, -0.9565],\n",
              "        [-0.7864,  0.4900, -1.5301, -0.3043],\n",
              "        [-1.3214,  0.0734,  0.4199,  0.5251]])"
            ]
          },
          "execution_count": 13,
          "metadata": {},
          "output_type": "execute_result"
        }
      ],
      "source": [
        "torch.randn((3,4)) # normally distributed numbers, between -1 & 1"
      ]
    },
    {
      "cell_type": "code",
      "execution_count": 14,
      "metadata": {
        "id": "jhD_3-Kdwznz"
      },
      "outputs": [],
      "source": [
        "import numpy as np"
      ]
    },
    {
      "cell_type": "code",
      "execution_count": 15,
      "metadata": {
        "colab": {
          "base_uri": "https://localhost:8080/"
        },
        "id": "u3hH1rBFw05M",
        "outputId": "4e7621a0-d3ea-4168-9fa5-6cf67175cfa4"
      },
      "outputs": [
        {
          "name": "stdout",
          "output_type": "stream",
          "text": [
            "<class 'numpy.ndarray'>\n",
            "<class 'torch.Tensor'>\n"
          ]
        }
      ],
      "source": [
        "x = np.array([[2,3,4], [10,11,12]])\n",
        "y = torch.tensor(x)\n",
        "\n",
        "print(type(x))\n",
        "print(type(y))"
      ]
    },
    {
      "cell_type": "markdown",
      "metadata": {
        "id": "oF_Un_ZzzDAt"
      },
      "source": [
        "#### Operations on Tensors"
      ]
    },
    {
      "cell_type": "code",
      "execution_count": 16,
      "metadata": {
        "id": "4VLrEpitxMaG"
      },
      "outputs": [],
      "source": [
        "import torch"
      ]
    },
    {
      "cell_type": "code",
      "execution_count": 17,
      "metadata": {
        "colab": {
          "base_uri": "https://localhost:8080/"
        },
        "id": "pGGM8XlyzVbR",
        "outputId": "ad4b157a-75f9-46e2-d480-1a7238ec7682"
      },
      "outputs": [
        {
          "name": "stdout",
          "output_type": "stream",
          "text": [
            "tensor([[10, 20, 30, 40],\n",
            "        [50, 60, 70, 80]])\n"
          ]
        }
      ],
      "source": [
        "x = torch.tensor([[1,2,3,4],[5,6,7,8]])\n",
        "print(x*10)"
      ]
    },
    {
      "cell_type": "code",
      "execution_count": 18,
      "metadata": {
        "colab": {
          "base_uri": "https://localhost:8080/"
        },
        "id": "cfbk7ncXzdfz",
        "outputId": "b9f7ae4c-14b3-485e-9151-d2806310fc36"
      },
      "outputs": [
        {
          "data": {
            "text/plain": [
              "tensor([[11, 12, 13, 14],\n",
              "        [15, 16, 17, 18]])"
            ]
          },
          "execution_count": 18,
          "metadata": {},
          "output_type": "execute_result"
        }
      ],
      "source": [
        "x.add(10)"
      ]
    },
    {
      "cell_type": "code",
      "execution_count": 19,
      "metadata": {
        "colab": {
          "base_uri": "https://localhost:8080/"
        },
        "id": "mEb-jn2vzoDk",
        "outputId": "a57ed7d0-33cb-47e4-a52d-7005018edf6d"
      },
      "outputs": [
        {
          "name": "stdout",
          "output_type": "stream",
          "text": [
            "torch.Size([4])\n",
            "torch.Size([4, 1])\n",
            "tensor([[2],\n",
            "        [3],\n",
            "        [4],\n",
            "        [5]])\n"
          ]
        }
      ],
      "source": [
        "y = torch.tensor([2,3,4,5])\n",
        "print(y.shape)\n",
        "y = y.view(4,1)\n",
        "print(y.shape)\n",
        "print(y)"
      ]
    },
    {
      "cell_type": "code",
      "execution_count": 20,
      "metadata": {
        "colab": {
          "base_uri": "https://localhost:8080/"
        },
        "id": "5SBrF8T-zzQO",
        "outputId": "3d332ceb-ba58-4951-819d-a3672fe97db5"
      },
      "outputs": [
        {
          "name": "stdout",
          "output_type": "stream",
          "text": [
            "tensor([[[-0.9569,  0.8118, -1.4448,  1.4151, -0.2074, -0.5059, -0.7205,\n",
            "          -0.5736,  0.7100,  0.0636]],\n",
            "\n",
            "        [[-0.0659, -0.4090, -0.8585,  1.3653,  1.6447, -0.6566,  0.4956,\n",
            "          -0.0283,  0.2407,  0.0425]],\n",
            "\n",
            "        [[ 0.9198,  0.5420, -0.3498,  0.2010,  0.3164,  1.2394,  0.2895,\n",
            "          -0.0942, -1.4311, -0.5424]],\n",
            "\n",
            "        [[-0.3086, -0.7111, -0.4920,  0.4846, -1.0039,  0.9462, -0.2288,\n",
            "           0.2405, -0.9831, -0.3875]],\n",
            "\n",
            "        [[ 0.5329, -1.1401,  0.5782,  0.1699, -0.2152, -0.3838,  0.7671,\n",
            "          -0.7716,  0.9008, -1.6718]],\n",
            "\n",
            "        [[ 0.8047, -0.8498,  0.3100,  1.7706, -0.1315, -0.7646, -1.1975,\n",
            "           0.3807,  0.2568,  0.6318]],\n",
            "\n",
            "        [[-0.6992, -1.2429,  0.6605,  0.6097, -1.6128, -0.8537,  1.2419,\n",
            "          -0.3081, -2.9070, -0.5758]],\n",
            "\n",
            "        [[ 0.5066, -0.0843, -0.0620, -2.1819, -1.5052, -0.3564,  0.5944,\n",
            "           1.5779,  0.9903,  2.0691]],\n",
            "\n",
            "        [[ 0.3296, -1.4374, -1.6857, -0.5798,  1.7416,  1.3908,  1.3229,\n",
            "          -0.6923, -0.5864,  1.4596]],\n",
            "\n",
            "        [[ 0.1082, -0.0485,  0.1273,  1.4029,  0.1178, -0.5660, -0.7996,\n",
            "           0.1734, -0.3970, -0.0830]]])\n",
            "tensor([[-0.9569,  0.8118, -1.4448,  1.4151, -0.2074, -0.5059, -0.7205, -0.5736,\n",
            "          0.7100,  0.0636],\n",
            "        [-0.0659, -0.4090, -0.8585,  1.3653,  1.6447, -0.6566,  0.4956, -0.0283,\n",
            "          0.2407,  0.0425],\n",
            "        [ 0.9198,  0.5420, -0.3498,  0.2010,  0.3164,  1.2394,  0.2895, -0.0942,\n",
            "         -1.4311, -0.5424],\n",
            "        [-0.3086, -0.7111, -0.4920,  0.4846, -1.0039,  0.9462, -0.2288,  0.2405,\n",
            "         -0.9831, -0.3875],\n",
            "        [ 0.5329, -1.1401,  0.5782,  0.1699, -0.2152, -0.3838,  0.7671, -0.7716,\n",
            "          0.9008, -1.6718],\n",
            "        [ 0.8047, -0.8498,  0.3100,  1.7706, -0.1315, -0.7646, -1.1975,  0.3807,\n",
            "          0.2568,  0.6318],\n",
            "        [-0.6992, -1.2429,  0.6605,  0.6097, -1.6128, -0.8537,  1.2419, -0.3081,\n",
            "         -2.9070, -0.5758],\n",
            "        [ 0.5066, -0.0843, -0.0620, -2.1819, -1.5052, -0.3564,  0.5944,  1.5779,\n",
            "          0.9903,  2.0691],\n",
            "        [ 0.3296, -1.4374, -1.6857, -0.5798,  1.7416,  1.3908,  1.3229, -0.6923,\n",
            "         -0.5864,  1.4596],\n",
            "        [ 0.1082, -0.0485,  0.1273,  1.4029,  0.1178, -0.5660, -0.7996,  0.1734,\n",
            "         -0.3970, -0.0830]])\n",
            "torch.Size([10, 1, 10]) torch.Size([10, 10])\n"
          ]
        }
      ],
      "source": [
        "x = torch.randn((10,1,10))\n",
        "print(x)\n",
        "z1 = torch.squeeze(x, 1)\n",
        "print(z1)\n",
        "\n",
        "z2 = x.squeeze(1)\n",
        "assert torch.all(z1==z2)\n",
        "print(x.shape, z1.shape)"
      ]
    },
    {
      "cell_type": "code",
      "execution_count": 21,
      "metadata": {
        "colab": {
          "base_uri": "https://localhost:8080/"
        },
        "id": "eIx0xpa50NQ1",
        "outputId": "6807cf1c-4e57-4c67-fbdb-0290d2cc4ef8"
      },
      "outputs": [
        {
          "name": "stdout",
          "output_type": "stream",
          "text": [
            "tensor([[-2.1998,  0.8427, -0.0916,  0.6376,  1.4570,  0.6475, -1.2181, -2.1515,\n",
            "          1.2546,  1.9838],\n",
            "        [-0.5322, -1.0507, -0.6577,  0.7203, -0.5148, -0.3638,  0.0942, -1.0700,\n",
            "          0.6047,  1.5723],\n",
            "        [-0.6404, -0.1651, -1.1510,  0.9489,  0.2869, -1.3953, -0.3186, -0.5372,\n",
            "         -1.4304, -0.7250],\n",
            "        [ 0.6236,  0.5986,  0.1607, -0.4379, -0.5186, -1.0470, -0.8036,  1.3833,\n",
            "          0.5327,  0.2956],\n",
            "        [-0.4134,  0.1011,  0.1325, -0.3788,  1.0174, -0.0586, -0.4624, -0.1278,\n",
            "         -1.6397, -0.3639],\n",
            "        [ 0.7853,  1.3229,  1.5025,  0.3761,  0.3418, -1.4026, -0.9945, -0.6952,\n",
            "         -0.5556, -0.8807],\n",
            "        [-0.5571,  0.3504, -0.4570, -0.5181, -0.8573,  0.7346,  0.4262,  1.2429,\n",
            "          0.1984, -1.8276],\n",
            "        [-0.3069,  0.7488,  1.3397,  1.0375, -2.3818,  1.2057,  0.2114, -0.3425,\n",
            "          0.3827, -0.5128],\n",
            "        [ 1.3330, -1.7878,  0.5816,  0.5057, -0.4341, -1.3130, -0.7046, -0.3280,\n",
            "         -1.8560, -0.8073],\n",
            "        [-0.8561,  1.7328, -0.3842,  0.2323, -1.2367,  1.3637, -1.7870, -0.1036,\n",
            "          0.1307,  1.3856]])\n",
            "torch.Size([10, 10])\n",
            "tensor([[[-2.1998,  0.8427, -0.0916,  0.6376,  1.4570,  0.6475, -1.2181,\n",
            "          -2.1515,  1.2546,  1.9838],\n",
            "         [-0.5322, -1.0507, -0.6577,  0.7203, -0.5148, -0.3638,  0.0942,\n",
            "          -1.0700,  0.6047,  1.5723],\n",
            "         [-0.6404, -0.1651, -1.1510,  0.9489,  0.2869, -1.3953, -0.3186,\n",
            "          -0.5372, -1.4304, -0.7250],\n",
            "         [ 0.6236,  0.5986,  0.1607, -0.4379, -0.5186, -1.0470, -0.8036,\n",
            "           1.3833,  0.5327,  0.2956],\n",
            "         [-0.4134,  0.1011,  0.1325, -0.3788,  1.0174, -0.0586, -0.4624,\n",
            "          -0.1278, -1.6397, -0.3639],\n",
            "         [ 0.7853,  1.3229,  1.5025,  0.3761,  0.3418, -1.4026, -0.9945,\n",
            "          -0.6952, -0.5556, -0.8807],\n",
            "         [-0.5571,  0.3504, -0.4570, -0.5181, -0.8573,  0.7346,  0.4262,\n",
            "           1.2429,  0.1984, -1.8276],\n",
            "         [-0.3069,  0.7488,  1.3397,  1.0375, -2.3818,  1.2057,  0.2114,\n",
            "          -0.3425,  0.3827, -0.5128],\n",
            "         [ 1.3330, -1.7878,  0.5816,  0.5057, -0.4341, -1.3130, -0.7046,\n",
            "          -0.3280, -1.8560, -0.8073],\n",
            "         [-0.8561,  1.7328, -0.3842,  0.2323, -1.2367,  1.3637, -1.7870,\n",
            "          -0.1036,  0.1307,  1.3856]]])\n",
            "torch.Size([1, 10, 10])\n"
          ]
        }
      ],
      "source": [
        "x = torch.randn(10, 10)\n",
        "print(x)\n",
        "print(x.shape)\n",
        "\n",
        "z1 =x.unsqueeze(0)\n",
        "print(z1)\n",
        "print(z1.shape)"
      ]
    },
    {
      "cell_type": "code",
      "execution_count": 22,
      "metadata": {
        "colab": {
          "base_uri": "https://localhost:8080/"
        },
        "id": "SuD4yH0txqRr",
        "outputId": "0bbcf1c0-ce8d-4ded-844d-746b8557568f"
      },
      "outputs": [
        {
          "name": "stdout",
          "output_type": "stream",
          "text": [
            "tensor([[[-1.1145,  1.9003, -1.2124,  1.3895, -1.0832,  0.3612, -0.7083,\n",
            "           0.5020, -0.8739, -0.4982],\n",
            "         [-0.2180,  0.0969,  0.7310,  0.5332, -0.0790, -1.2330,  0.7953,\n",
            "           0.4355, -0.9343, -0.1618],\n",
            "         [-1.6888, -1.8357,  0.0431,  0.1293, -0.7128, -0.2879, -0.6345,\n",
            "          -0.9808,  0.6669,  0.0367],\n",
            "         [ 0.1416, -0.7521,  1.3703,  1.2858, -0.6126, -1.7437, -0.2972,\n",
            "          -0.7479,  0.9300,  1.2347],\n",
            "         [ 1.0448, -1.4798,  0.6154, -1.0695,  0.6599,  0.0235, -0.6991,\n",
            "           0.9122,  0.5468,  0.0898],\n",
            "         [ 0.5495,  0.0888,  0.9761,  0.9377,  0.2821,  0.1615,  1.5334,\n",
            "           0.4727,  0.7915,  0.0041],\n",
            "         [ 3.1654, -0.8545, -0.5882,  0.7844,  0.7389,  0.1965,  0.0689,\n",
            "          -0.3003,  1.1652,  0.6523],\n",
            "         [ 1.2521,  0.7299,  1.0986, -1.9935, -2.0724, -1.0439, -0.3925,\n",
            "          -2.0981,  0.3869, -0.2563],\n",
            "         [ 0.5564, -0.7878, -0.9874,  0.2490, -1.7184, -1.1361, -0.6169,\n",
            "          -0.9335,  1.7256, -2.2497],\n",
            "         [ 0.3685, -0.0436,  0.0223,  1.2805, -0.2821,  1.1331, -0.3710,\n",
            "           0.9686, -1.0170,  1.4319]]]) torch.Size([1, 10, 10])\n",
            "tensor([[[-1.1145,  1.9003, -1.2124,  1.3895, -1.0832,  0.3612, -0.7083,\n",
            "           0.5020, -0.8739, -0.4982]],\n",
            "\n",
            "        [[-0.2180,  0.0969,  0.7310,  0.5332, -0.0790, -1.2330,  0.7953,\n",
            "           0.4355, -0.9343, -0.1618]],\n",
            "\n",
            "        [[-1.6888, -1.8357,  0.0431,  0.1293, -0.7128, -0.2879, -0.6345,\n",
            "          -0.9808,  0.6669,  0.0367]],\n",
            "\n",
            "        [[ 0.1416, -0.7521,  1.3703,  1.2858, -0.6126, -1.7437, -0.2972,\n",
            "          -0.7479,  0.9300,  1.2347]],\n",
            "\n",
            "        [[ 1.0448, -1.4798,  0.6154, -1.0695,  0.6599,  0.0235, -0.6991,\n",
            "           0.9122,  0.5468,  0.0898]],\n",
            "\n",
            "        [[ 0.5495,  0.0888,  0.9761,  0.9377,  0.2821,  0.1615,  1.5334,\n",
            "           0.4727,  0.7915,  0.0041]],\n",
            "\n",
            "        [[ 3.1654, -0.8545, -0.5882,  0.7844,  0.7389,  0.1965,  0.0689,\n",
            "          -0.3003,  1.1652,  0.6523]],\n",
            "\n",
            "        [[ 1.2521,  0.7299,  1.0986, -1.9935, -2.0724, -1.0439, -0.3925,\n",
            "          -2.0981,  0.3869, -0.2563]],\n",
            "\n",
            "        [[ 0.5564, -0.7878, -0.9874,  0.2490, -1.7184, -1.1361, -0.6169,\n",
            "          -0.9335,  1.7256, -2.2497]],\n",
            "\n",
            "        [[ 0.3685, -0.0436,  0.0223,  1.2805, -0.2821,  1.1331, -0.3710,\n",
            "           0.9686, -1.0170,  1.4319]]]) torch.Size([10, 1, 10])\n",
            "tensor([[[-1.1145],\n",
            "         [ 1.9003],\n",
            "         [-1.2124],\n",
            "         [ 1.3895],\n",
            "         [-1.0832],\n",
            "         [ 0.3612],\n",
            "         [-0.7083],\n",
            "         [ 0.5020],\n",
            "         [-0.8739],\n",
            "         [-0.4982]],\n",
            "\n",
            "        [[-0.2180],\n",
            "         [ 0.0969],\n",
            "         [ 0.7310],\n",
            "         [ 0.5332],\n",
            "         [-0.0790],\n",
            "         [-1.2330],\n",
            "         [ 0.7953],\n",
            "         [ 0.4355],\n",
            "         [-0.9343],\n",
            "         [-0.1618]],\n",
            "\n",
            "        [[-1.6888],\n",
            "         [-1.8357],\n",
            "         [ 0.0431],\n",
            "         [ 0.1293],\n",
            "         [-0.7128],\n",
            "         [-0.2879],\n",
            "         [-0.6345],\n",
            "         [-0.9808],\n",
            "         [ 0.6669],\n",
            "         [ 0.0367]],\n",
            "\n",
            "        [[ 0.1416],\n",
            "         [-0.7521],\n",
            "         [ 1.3703],\n",
            "         [ 1.2858],\n",
            "         [-0.6126],\n",
            "         [-1.7437],\n",
            "         [-0.2972],\n",
            "         [-0.7479],\n",
            "         [ 0.9300],\n",
            "         [ 1.2347]],\n",
            "\n",
            "        [[ 1.0448],\n",
            "         [-1.4798],\n",
            "         [ 0.6154],\n",
            "         [-1.0695],\n",
            "         [ 0.6599],\n",
            "         [ 0.0235],\n",
            "         [-0.6991],\n",
            "         [ 0.9122],\n",
            "         [ 0.5468],\n",
            "         [ 0.0898]],\n",
            "\n",
            "        [[ 0.5495],\n",
            "         [ 0.0888],\n",
            "         [ 0.9761],\n",
            "         [ 0.9377],\n",
            "         [ 0.2821],\n",
            "         [ 0.1615],\n",
            "         [ 1.5334],\n",
            "         [ 0.4727],\n",
            "         [ 0.7915],\n",
            "         [ 0.0041]],\n",
            "\n",
            "        [[ 3.1654],\n",
            "         [-0.8545],\n",
            "         [-0.5882],\n",
            "         [ 0.7844],\n",
            "         [ 0.7389],\n",
            "         [ 0.1965],\n",
            "         [ 0.0689],\n",
            "         [-0.3003],\n",
            "         [ 1.1652],\n",
            "         [ 0.6523]],\n",
            "\n",
            "        [[ 1.2521],\n",
            "         [ 0.7299],\n",
            "         [ 1.0986],\n",
            "         [-1.9935],\n",
            "         [-2.0724],\n",
            "         [-1.0439],\n",
            "         [-0.3925],\n",
            "         [-2.0981],\n",
            "         [ 0.3869],\n",
            "         [-0.2563]],\n",
            "\n",
            "        [[ 0.5564],\n",
            "         [-0.7878],\n",
            "         [-0.9874],\n",
            "         [ 0.2490],\n",
            "         [-1.7184],\n",
            "         [-1.1361],\n",
            "         [-0.6169],\n",
            "         [-0.9335],\n",
            "         [ 1.7256],\n",
            "         [-2.2497]],\n",
            "\n",
            "        [[ 0.3685],\n",
            "         [-0.0436],\n",
            "         [ 0.0223],\n",
            "         [ 1.2805],\n",
            "         [-0.2821],\n",
            "         [ 1.1331],\n",
            "         [-0.3710],\n",
            "         [ 0.9686],\n",
            "         [-1.0170],\n",
            "         [ 1.4319]]]) torch.Size([10, 10, 1])\n"
          ]
        }
      ],
      "source": [
        "x = torch.randn(10, 10)\n",
        "z2, z3, z4 = x[None], x[:, None], x[:,:, None]\n",
        "print(z2, z2.shape)\n",
        "print(z3, z3.shape)\n",
        "print(z4, z4.shape)"
      ]
    },
    {
      "cell_type": "code",
      "execution_count": 23,
      "metadata": {
        "colab": {
          "base_uri": "https://localhost:8080/"
        },
        "id": "D3UpCxuly5WV",
        "outputId": "8b2cbd55-b595-489a-e6b0-fd9513cd7a80"
      },
      "outputs": [
        {
          "name": "stdout",
          "output_type": "stream",
          "text": [
            "tensor([[1, 2, 3, 4],\n",
            "        [5, 6, 7, 8]]) torch.Size([2, 4])\n",
            "tensor([[2],\n",
            "        [3],\n",
            "        [4],\n",
            "        [5]]) torch.Size([4, 1])\n",
            "tensor([[40],\n",
            "        [96]])\n"
          ]
        }
      ],
      "source": [
        "x = torch.tensor([[1,2,3,4], [5,6,7,8]])\n",
        "print(x, x.shape)\n",
        "print(y, y.shape)\n",
        "print(torch.matmul(x,y))"
      ]
    },
    {
      "cell_type": "code",
      "execution_count": 24,
      "metadata": {
        "colab": {
          "base_uri": "https://localhost:8080/"
        },
        "id": "s1yoyKyD0G7b",
        "outputId": "b42fef30-e2f6-4c4f-b6ad-8d930b9a7a73"
      },
      "outputs": [
        {
          "name": "stdout",
          "output_type": "stream",
          "text": [
            "tensor([[40],\n",
            "        [96]])\n"
          ]
        }
      ],
      "source": [
        "print(x@y)"
      ]
    },
    {
      "cell_type": "code",
      "execution_count": 25,
      "metadata": {
        "colab": {
          "base_uri": "https://localhost:8080/"
        },
        "id": "8sRqfpPT0z6N",
        "outputId": "7b759c6b-d777-44f5-d16a-f7801fafd9dd"
      },
      "outputs": [
        {
          "name": "stdout",
          "output_type": "stream",
          "text": [
            "Cat axis 0: torch.Size([10, 10, 10]) torch.Size([20, 10, 10])\n",
            "Cat axis 1: torch.Size([10, 10, 10]) torch.Size([10, 20, 10])\n"
          ]
        }
      ],
      "source": [
        "x = torch.randn(10,10,10)\n",
        "z = torch.cat([x,x], axis=0)\n",
        "print('Cat axis 0:', x.shape, z.shape)\n",
        "\n",
        "\n",
        "z = torch.cat([x,x], axis=1)\n",
        "print('Cat axis 1:', x.shape, z.shape)"
      ]
    },
    {
      "cell_type": "code",
      "execution_count": 26,
      "metadata": {
        "colab": {
          "base_uri": "https://localhost:8080/"
        },
        "id": "o4OlVs4F1X4z",
        "outputId": "40127e9f-eded-4dbd-8867-f2da1f22d25c"
      },
      "outputs": [
        {
          "name": "stdout",
          "output_type": "stream",
          "text": [
            "tensor([[ 0,  1,  2,  3,  4],\n",
            "        [ 5,  6,  7,  8,  9],\n",
            "        [10, 11, 12, 13, 14],\n",
            "        [15, 16, 17, 18, 19],\n",
            "        [20, 21, 22, 23, 24]]) torch.Size([5, 5]) tensor(24)\n"
          ]
        }
      ],
      "source": [
        "x = torch.arange(25).reshape(5,5)\n",
        "print(x, x.shape, x.max())"
      ]
    },
    {
      "cell_type": "code",
      "execution_count": 27,
      "metadata": {
        "colab": {
          "base_uri": "https://localhost:8080/"
        },
        "id": "SfKh3M3v3ocp",
        "outputId": "4470217e-e41c-447a-fb78-804b5127b78d"
      },
      "outputs": [
        {
          "data": {
            "text/plain": [
              "torch.return_types.max(\n",
              "values=tensor([20, 21, 22, 23, 24]),\n",
              "indices=tensor([4, 4, 4, 4, 4]))"
            ]
          },
          "execution_count": 27,
          "metadata": {},
          "output_type": "execute_result"
        }
      ],
      "source": [
        "x.max(dim=0)"
      ]
    },
    {
      "cell_type": "code",
      "execution_count": 28,
      "metadata": {
        "colab": {
          "base_uri": "https://localhost:8080/"
        },
        "id": "QsigecM-7Ep9",
        "outputId": "f7f9bbb7-a6ec-4ede-e3c2-b9d3b56df53f"
      },
      "outputs": [
        {
          "data": {
            "text/plain": [
              "torch.return_types.max(\n",
              "values=tensor([ 4,  9, 14, 19, 24]),\n",
              "indices=tensor([4, 4, 4, 4, 4]))"
            ]
          },
          "execution_count": 28,
          "metadata": {},
          "output_type": "execute_result"
        }
      ],
      "source": [
        "x.max(dim=1)"
      ]
    },
    {
      "cell_type": "code",
      "execution_count": 29,
      "metadata": {
        "colab": {
          "base_uri": "https://localhost:8080/"
        },
        "id": "mfc8aOPN7FZy",
        "outputId": "c47d330e-4840-4829-e1e7-e7f58404ce81"
      },
      "outputs": [
        {
          "name": "stdout",
          "output_type": "stream",
          "text": [
            "torch.Size([10, 20, 30]) torch.Size([30, 10, 20])\n"
          ]
        }
      ],
      "source": [
        "x = torch.randn(10, 20, 30)\n",
        "z = x.permute(2, 0, 1)\n",
        "print(x.shape, z.shape)"
      ]
    },
    {
      "cell_type": "markdown",
      "metadata": {
        "id": "JaY6DZvq_AoY"
      },
      "source": [
        "#### Auto Gradients of Tensor Objects"
      ]
    },
    {
      "cell_type": "code",
      "execution_count": 30,
      "metadata": {
        "id": "Hb9SVoFu7m0F"
      },
      "outputs": [],
      "source": [
        "import torch"
      ]
    },
    {
      "cell_type": "code",
      "execution_count": 31,
      "metadata": {
        "colab": {
          "base_uri": "https://localhost:8080/"
        },
        "id": "dKQZ-QPt_J97",
        "outputId": "860c0b4a-0c6c-404c-ce56-ed335d1031f1"
      },
      "outputs": [
        {
          "name": "stdout",
          "output_type": "stream",
          "text": [
            "tensor([[ 2., -1.],\n",
            "        [ 1.,  1.]], requires_grad=True)\n"
          ]
        }
      ],
      "source": [
        "x = torch.tensor([[2.,-1.],[1.,1.]], requires_grad=True)\n",
        "print(x)"
      ]
    },
    {
      "cell_type": "code",
      "execution_count": 32,
      "metadata": {
        "colab": {
          "base_uri": "https://localhost:8080/"
        },
        "id": "M1YwF9ok_UAc",
        "outputId": "1d7fae57-6c73-4cf2-ba44-f8a5301f1075"
      },
      "outputs": [
        {
          "data": {
            "text/plain": [
              "torch.Tensor"
            ]
          },
          "execution_count": 32,
          "metadata": {},
          "output_type": "execute_result"
        }
      ],
      "source": [
        "type(x)"
      ]
    },
    {
      "cell_type": "code",
      "execution_count": 33,
      "metadata": {
        "colab": {
          "base_uri": "https://localhost:8080/"
        },
        "id": "nw865NlU_ga3",
        "outputId": "0406438a-3571-4120-b99a-62675ad79dd9"
      },
      "outputs": [
        {
          "name": "stdout",
          "output_type": "stream",
          "text": [
            "tensor(7., grad_fn=<SumBackward0>)\n"
          ]
        }
      ],
      "source": [
        "out = x.pow(2).sum()\n",
        "print(out)"
      ]
    },
    {
      "cell_type": "code",
      "execution_count": 34,
      "metadata": {
        "id": "iu2_rkX__jZn"
      },
      "outputs": [],
      "source": [
        "out.backward()"
      ]
    },
    {
      "cell_type": "code",
      "execution_count": null,
      "metadata": {},
      "outputs": [],
      "source": []
    },
    {
      "cell_type": "code",
      "execution_count": 35,
      "metadata": {
        "colab": {
          "base_uri": "https://localhost:8080/"
        },
        "id": "Dsfk3ImEAKBE",
        "outputId": "54dc610b-81ec-488e-9ca7-d9c4bbbb032d"
      },
      "outputs": [
        {
          "data": {
            "text/plain": [
              "tensor([[ 4., -2.],\n",
              "        [ 2.,  2.]])"
            ]
          },
          "execution_count": 35,
          "metadata": {},
          "output_type": "execute_result"
        }
      ],
      "source": [
        "x.grad"
      ]
    },
    {
      "cell_type": "markdown",
      "metadata": {
        "id": "lswN4viTAixK"
      },
      "source": [
        "#### Numpy vs Pytorch"
      ]
    },
    {
      "cell_type": "code",
      "execution_count": 55,
      "metadata": {},
      "outputs": [],
      "source": [
        "import torch"
      ]
    },
    {
      "cell_type": "code",
      "execution_count": 56,
      "metadata": {},
      "outputs": [],
      "source": [
        "x = torch.rand(1, 6400)\n",
        "y = torch.rand(6400, 5000)"
      ]
    },
    {
      "cell_type": "code",
      "execution_count": 57,
      "metadata": {},
      "outputs": [],
      "source": [
        "device = 'cuda' if torch.cuda.is_available() else 'cpu'"
      ]
    },
    {
      "cell_type": "code",
      "execution_count": 58,
      "metadata": {},
      "outputs": [],
      "source": [
        "x, y = x.to(device), y.to(device)"
      ]
    },
    {
      "cell_type": "code",
      "execution_count": 60,
      "metadata": {},
      "outputs": [
        {
          "name": "stdout",
          "output_type": "stream",
          "text": [
            "1.34 ms ± 1.64 µs per loop (mean ± std. dev. of 7 runs, 10,000 loops each)\n"
          ]
        }
      ],
      "source": [
        "%timeit z = x@y"
      ]
    },
    {
      "cell_type": "code",
      "execution_count": 61,
      "metadata": {},
      "outputs": [
        {
          "name": "stdout",
          "output_type": "stream",
          "text": [
            "5.94 ms ± 110 µs per loop (mean ± std. dev. of 7 runs, 100 loops each)\n"
          ]
        }
      ],
      "source": [
        "x, y = x.cpu(), y.cpu()\n",
        "%timeit z = x@y"
      ]
    },
    {
      "cell_type": "code",
      "execution_count": 62,
      "metadata": {},
      "outputs": [
        {
          "name": "stdout",
          "output_type": "stream",
          "text": [
            "10.5 ms ± 253 µs per loop (mean ± std. dev. of 7 runs, 100 loops each)\n"
          ]
        }
      ],
      "source": [
        "import numpy as np\n",
        "x = np.random.random((1, 6400))\n",
        "y = np.random.random((6400, 5000))\n",
        "%timeit z = np.matmul(x,y)"
      ]
    }
  ],
  "metadata": {
    "colab": {
      "provenance": []
    },
    "kernelspec": {
      "display_name": "Python 3",
      "name": "python3"
    },
    "language_info": {
      "name": "python"
    }
  },
  "nbformat": 4,
  "nbformat_minor": 0
}
